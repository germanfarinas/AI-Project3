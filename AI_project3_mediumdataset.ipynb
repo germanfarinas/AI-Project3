{
  "nbformat": 4,
  "nbformat_minor": 0,
  "metadata": {
    "colab": {
      "name": "AI_project3_mediumdataset.ipynb",
      "version": "0.3.2",
      "provenance": [],
      "collapsed_sections": [],
      "toc_visible": true,
      "include_colab_link": true
    },
    "kernelspec": {
      "name": "python3",
      "display_name": "Python 3"
    },
    "accelerator": "GPU"
  },
  "cells": [
    {
      "cell_type": "markdown",
      "metadata": {
        "id": "view-in-github",
        "colab_type": "text"
      },
      "source": [
        "<a href=\"https://colab.research.google.com/github/germanfarinas/AI-Project3/blob/master/AI_project3_mediumdataset.ipynb\" target=\"_parent\"><img src=\"https://colab.research.google.com/assets/colab-badge.svg\" alt=\"Open In Colab\"/></a>"
      ]
    },
    {
      "metadata": {
        "id": "zoJ2nKs5AADn",
        "colab_type": "text"
      },
      "cell_type": "markdown",
      "source": [
        "# Demo AI project 3 Medium dataset (~300 training samples)"
      ]
    },
    {
      "metadata": {
        "id": "JB6kZ749eVuU",
        "colab_type": "code",
        "colab": {}
      },
      "cell_type": "code",
      "source": [
        "# imports\n",
        "import tensorflow as tf\n",
        "import numpy as np\n",
        "import matplotlib.pyplot as plt\n",
        "from tensorflow import keras\n",
        "import os   # to save the checkpoint\n",
        "import pandas as pd\n",
        "#sess = tf.InteractiveSession()"
      ],
      "execution_count": 0,
      "outputs": []
    },
    {
      "metadata": {
        "id": "psrHVWJF9Hwi",
        "colab_type": "code",
        "outputId": "3b5b27c2-d77c-4300-faa9-f236517723aa",
        "colab": {
          "base_uri": "https://localhost:8080/",
          "height": 72
        }
      },
      "cell_type": "code",
      "source": [
        "from google.colab import drive\n",
        "drive.mount('/content/gdrive')\n",
        "root_path = r\"/content/gdrive/My Drive/Colab Notebooks/Data\"  #change dir to your project folder\n",
        "os.chdir(root_path)\n",
        "os.getcwd()"
      ],
      "execution_count": 2,
      "outputs": [
        {
          "output_type": "stream",
          "text": [
            "Drive already mounted at /content/gdrive; to attempt to forcibly remount, call drive.mount(\"/content/gdrive\", force_remount=True).\n"
          ],
          "name": "stdout"
        },
        {
          "output_type": "execute_result",
          "data": {
            "text/plain": [
              "'/content/gdrive/My Drive/Colab Notebooks/Data'"
            ]
          },
          "metadata": {
            "tags": []
          },
          "execution_count": 2
        }
      ]
    },
    {
      "metadata": {
        "id": "s_lbbOFsHZai",
        "colab_type": "text"
      },
      "cell_type": "markdown",
      "source": [
        "# Example 1 Ionospheric Dataset"
      ]
    },
    {
      "metadata": {
        "id": "yBDtFHjz98yr",
        "colab_type": "code",
        "colab": {}
      },
      "cell_type": "code",
      "source": [
        "#Prepare the data\n",
        "def read_dataset():\n",
        "  file = \"ionosphere.txt\"\n",
        "  data = pd.read_csv(file,delim_whitespace=False,header=-1)\n",
        "  data = np.array(data)\n",
        "  data\n",
        "  #np.random.shuffle(data)\n",
        "  # #Training Data\n",
        "  ratio = 0.8 # train/Total\n",
        "  training_data = data[0:int(len(data)*ratio)]\n",
        "  training_data\n",
        "  testing_data = data[int(len(data)*ratio):len(data)]\n",
        "  x_train = training_data[:, 0:34]\n",
        "  y_train = x_train.astype(float)\n",
        "  y_train = training_data[:, 34:35]\n",
        "  y_train = y_train.T[0]=='g'\n",
        "  y_train = y_train.astype(int)\n",
        "  #Testing Data\n",
        "  x_test = testing_data[:, 0:34]\n",
        "  x_test = x_test.astype(float)\n",
        "  y_test = testing_data[:, 34:35]\n",
        "  y_test = y_test.T[0]=='g'\n",
        "  y_test = y_test.astype(int)\n",
        "  return x_train,y_train,x_test,y_test\n",
        "\n",
        "def create_model(N_input,N_hidden,N_output):\n",
        "  model = tf.keras.Sequential()\n",
        "  model.add(tf.keras.layers.Dense(N_hidden,input_dim = N_input, activation='relu')) \n",
        "  model.add(tf.keras.layers.Dense(N_output, activation='sigmoid'))\n",
        "  \n",
        "  model.compile(loss='mean_squared_error',\n",
        "             optimizer='sgd',\n",
        "             metrics=['accuracy'])\n",
        "  \n",
        "  return model"
      ],
      "execution_count": 0,
      "outputs": []
    },
    {
      "metadata": {
        "id": "9tTfsEAWEy6g",
        "colab_type": "code",
        "outputId": "048d461c-21a3-4503-f081-bac892e6e8db",
        "colab": {
          "base_uri": "https://localhost:8080/",
          "height": 87
        }
      },
      "cell_type": "code",
      "source": [
        "x_train, y_train, x_test, y_test = read_dataset()\n",
        "print('Training data size:' + str(x_train.shape))\n",
        "print('Training labels size: ' + str(y_train.shape))\n",
        "print('Test data size: ' + str(x_test.shape))\n",
        "print('Test label size: ' + str(y_test.shape))"
      ],
      "execution_count": 4,
      "outputs": [
        {
          "output_type": "stream",
          "text": [
            "Training data size:(280, 34)\n",
            "Training labels size: (280,)\n",
            "Test data size: (71, 34)\n",
            "Test label size: (71,)\n"
          ],
          "name": "stdout"
        }
      ]
    },
    {
      "metadata": {
        "id": "rjMLOFLuFioA",
        "colab_type": "code",
        "outputId": "387c6fd5-79d6-4247-ae60-906fa615699b",
        "colab": {
          "base_uri": "https://localhost:8080/",
          "height": 52
        }
      },
      "cell_type": "code",
      "source": [
        "labels = ['b','g']\n",
        "print(labels)\n",
        "print(y_train[0], labels[y_train[0]])"
      ],
      "execution_count": 5,
      "outputs": [
        {
          "output_type": "stream",
          "text": [
            "['b', 'g']\n",
            "1 g\n"
          ],
          "name": "stdout"
        }
      ]
    },
    {
      "metadata": {
        "colab_type": "code",
        "outputId": "c32270b6-57eb-4b12-a8a4-5e5a8e732811",
        "id": "oT3fT8EcOGuh",
        "colab": {
          "base_uri": "https://localhost:8080/",
          "height": 122
        }
      },
      "cell_type": "code",
      "source": [
        "# Convert the labels to one-hot vectors\n",
        "print(y_train[0:5])\n",
        "y_train = tf.keras.utils.to_categorical(y_train, 2)  # 10 classes\n",
        "y_test = tf.keras.utils.to_categorical(y_test, 2)\n",
        "print(y_train[0:5])"
      ],
      "execution_count": 6,
      "outputs": [
        {
          "output_type": "stream",
          "text": [
            "[1 0 1 0 1]\n",
            "[[0. 1.]\n",
            " [1. 0.]\n",
            " [0. 1.]\n",
            " [1. 0.]\n",
            " [0. 1.]]\n"
          ],
          "name": "stdout"
        }
      ]
    },
    {
      "metadata": {
        "id": "KflX8zSfImCp",
        "colab_type": "code",
        "colab": {
          "base_uri": "https://localhost:8080/",
          "height": 142
        },
        "outputId": "c3af462a-682f-452b-80a3-fedf69804d42"
      },
      "cell_type": "code",
      "source": [
        "model = create_model(34,5,2)\n",
        "#model.summary()"
      ],
      "execution_count": 7,
      "outputs": [
        {
          "output_type": "stream",
          "text": [
            "WARNING:tensorflow:From /usr/local/lib/python3.6/dist-packages/tensorflow/python/ops/resource_variable_ops.py:435: colocate_with (from tensorflow.python.framework.ops) is deprecated and will be removed in a future version.\n",
            "Instructions for updating:\n",
            "Colocations handled automatically by placer.\n",
            "WARNING:tensorflow:From /usr/local/lib/python3.6/dist-packages/tensorflow/python/keras/utils/losses_utils.py:170: to_float (from tensorflow.python.ops.math_ops) is deprecated and will be removed in a future version.\n",
            "Instructions for updating:\n",
            "Use tf.cast instead.\n"
          ],
          "name": "stdout"
        }
      ]
    },
    {
      "metadata": {
        "id": "tjYN6iYURUTU",
        "colab_type": "code",
        "outputId": "b59dad6a-eac8-4a5b-bdf5-d9032bf6030e",
        "colab": {
          "base_uri": "https://localhost:8080/",
          "height": 210
        }
      },
      "cell_type": "code",
      "source": [
        "model.summary()"
      ],
      "execution_count": 8,
      "outputs": [
        {
          "output_type": "stream",
          "text": [
            "_________________________________________________________________\n",
            "Layer (type)                 Output Shape              Param #   \n",
            "=================================================================\n",
            "dense (Dense)                (None, 5)                 175       \n",
            "_________________________________________________________________\n",
            "dense_1 (Dense)              (None, 2)                 12        \n",
            "=================================================================\n",
            "Total params: 187\n",
            "Trainable params: 187\n",
            "Non-trainable params: 0\n",
            "_________________________________________________________________\n"
          ],
          "name": "stdout"
        }
      ]
    },
    {
      "metadata": {
        "id": "_62iy4U0TpHq",
        "colab_type": "code",
        "outputId": "0dd261bd-33bf-4a48-ee11-7eab08017190",
        "colab": {
          "base_uri": "https://localhost:8080/",
          "height": 1867
        }
      },
      "cell_type": "code",
      "source": [
        "n_iteration = 50\n",
        "model.fit(x_train, y_train, batch_size=10, epochs=n_iteration, shuffle=True)"
      ],
      "execution_count": 9,
      "outputs": [
        {
          "output_type": "stream",
          "text": [
            "WARNING:tensorflow:From /usr/local/lib/python3.6/dist-packages/tensorflow/python/ops/math_ops.py:3066: to_int32 (from tensorflow.python.ops.math_ops) is deprecated and will be removed in a future version.\n",
            "Instructions for updating:\n",
            "Use tf.cast instead.\n",
            "Epoch 1/50\n",
            "280/280 [==============================] - 0s 1ms/sample - loss: 0.3006 - acc: 0.3750\n",
            "Epoch 2/50\n",
            "280/280 [==============================] - 0s 263us/sample - loss: 0.2936 - acc: 0.3571\n",
            "Epoch 3/50\n",
            "280/280 [==============================] - 0s 270us/sample - loss: 0.2877 - acc: 0.3429\n",
            "Epoch 4/50\n",
            "280/280 [==============================] - 0s 296us/sample - loss: 0.2825 - acc: 0.3321\n",
            "Epoch 5/50\n",
            "280/280 [==============================] - 0s 264us/sample - loss: 0.2779 - acc: 0.3286\n",
            "Epoch 6/50\n",
            "280/280 [==============================] - 0s 258us/sample - loss: 0.2739 - acc: 0.3107\n",
            "Epoch 7/50\n",
            "280/280 [==============================] - 0s 249us/sample - loss: 0.2705 - acc: 0.3107\n",
            "Epoch 8/50\n",
            "280/280 [==============================] - 0s 252us/sample - loss: 0.2677 - acc: 0.3143\n",
            "Epoch 9/50\n",
            "280/280 [==============================] - 0s 241us/sample - loss: 0.2656 - acc: 0.3179\n",
            "Epoch 10/50\n",
            "280/280 [==============================] - 0s 275us/sample - loss: 0.2638 - acc: 0.3250\n",
            "Epoch 11/50\n",
            "280/280 [==============================] - 0s 264us/sample - loss: 0.2623 - acc: 0.3357\n",
            "Epoch 12/50\n",
            "280/280 [==============================] - 0s 247us/sample - loss: 0.2610 - acc: 0.3857\n",
            "Epoch 13/50\n",
            "280/280 [==============================] - 0s 256us/sample - loss: 0.2597 - acc: 0.4321\n",
            "Epoch 14/50\n",
            "280/280 [==============================] - 0s 289us/sample - loss: 0.2586 - acc: 0.4464\n",
            "Epoch 15/50\n",
            "280/280 [==============================] - 0s 294us/sample - loss: 0.2576 - acc: 0.4786\n",
            "Epoch 16/50\n",
            "280/280 [==============================] - 0s 311us/sample - loss: 0.2566 - acc: 0.5143\n",
            "Epoch 17/50\n",
            "280/280 [==============================] - 0s 328us/sample - loss: 0.2557 - acc: 0.5643\n",
            "Epoch 18/50\n",
            "280/280 [==============================] - 0s 313us/sample - loss: 0.2549 - acc: 0.5821\n",
            "Epoch 19/50\n",
            "280/280 [==============================] - 0s 311us/sample - loss: 0.2542 - acc: 0.5821\n",
            "Epoch 20/50\n",
            "280/280 [==============================] - 0s 313us/sample - loss: 0.2534 - acc: 0.5821\n",
            "Epoch 21/50\n",
            "280/280 [==============================] - 0s 301us/sample - loss: 0.2527 - acc: 0.5893\n",
            "Epoch 22/50\n",
            "280/280 [==============================] - 0s 295us/sample - loss: 0.2520 - acc: 0.6000\n",
            "Epoch 23/50\n",
            "280/280 [==============================] - 0s 301us/sample - loss: 0.2513 - acc: 0.6036\n",
            "Epoch 24/50\n",
            "280/280 [==============================] - 0s 294us/sample - loss: 0.2507 - acc: 0.6071\n",
            "Epoch 25/50\n",
            "280/280 [==============================] - 0s 296us/sample - loss: 0.2501 - acc: 0.6071\n",
            "Epoch 26/50\n",
            "280/280 [==============================] - 0s 294us/sample - loss: 0.2494 - acc: 0.6143\n",
            "Epoch 27/50\n",
            "280/280 [==============================] - 0s 291us/sample - loss: 0.2488 - acc: 0.6143\n",
            "Epoch 28/50\n",
            "280/280 [==============================] - 0s 356us/sample - loss: 0.2482 - acc: 0.6179\n",
            "Epoch 29/50\n",
            "280/280 [==============================] - 0s 286us/sample - loss: 0.2477 - acc: 0.6214\n",
            "Epoch 30/50\n",
            "280/280 [==============================] - 0s 307us/sample - loss: 0.2471 - acc: 0.6179\n",
            "Epoch 31/50\n",
            "280/280 [==============================] - 0s 293us/sample - loss: 0.2465 - acc: 0.6214\n",
            "Epoch 32/50\n",
            "280/280 [==============================] - 0s 295us/sample - loss: 0.2459 - acc: 0.6250\n",
            "Epoch 33/50\n",
            "280/280 [==============================] - 0s 288us/sample - loss: 0.2454 - acc: 0.6250\n",
            "Epoch 34/50\n",
            "280/280 [==============================] - 0s 291us/sample - loss: 0.2448 - acc: 0.6250\n",
            "Epoch 35/50\n",
            "280/280 [==============================] - 0s 302us/sample - loss: 0.2442 - acc: 0.6250\n",
            "Epoch 36/50\n",
            "280/280 [==============================] - 0s 302us/sample - loss: 0.2436 - acc: 0.6250\n",
            "Epoch 37/50\n",
            "280/280 [==============================] - 0s 294us/sample - loss: 0.2431 - acc: 0.6321\n",
            "Epoch 38/50\n",
            "280/280 [==============================] - 0s 296us/sample - loss: 0.2425 - acc: 0.6321\n",
            "Epoch 39/50\n",
            "280/280 [==============================] - 0s 360us/sample - loss: 0.2419 - acc: 0.6286\n",
            "Epoch 40/50\n",
            "280/280 [==============================] - 0s 305us/sample - loss: 0.2414 - acc: 0.6286\n",
            "Epoch 41/50\n",
            "280/280 [==============================] - 0s 310us/sample - loss: 0.2408 - acc: 0.6321\n",
            "Epoch 42/50\n",
            "280/280 [==============================] - 0s 298us/sample - loss: 0.2402 - acc: 0.6286\n",
            "Epoch 43/50\n",
            "280/280 [==============================] - 0s 293us/sample - loss: 0.2396 - acc: 0.6321\n",
            "Epoch 44/50\n",
            "280/280 [==============================] - 0s 295us/sample - loss: 0.2390 - acc: 0.6321\n",
            "Epoch 45/50\n",
            "280/280 [==============================] - 0s 287us/sample - loss: 0.2384 - acc: 0.6321\n",
            "Epoch 46/50\n",
            "280/280 [==============================] - 0s 297us/sample - loss: 0.2378 - acc: 0.6321\n",
            "Epoch 47/50\n",
            "280/280 [==============================] - 0s 299us/sample - loss: 0.2372 - acc: 0.6321\n",
            "Epoch 48/50\n",
            "280/280 [==============================] - 0s 293us/sample - loss: 0.2366 - acc: 0.6286\n",
            "Epoch 49/50\n",
            "280/280 [==============================] - 0s 292us/sample - loss: 0.2360 - acc: 0.6321\n",
            "Epoch 50/50\n",
            "280/280 [==============================] - 0s 297us/sample - loss: 0.2354 - acc: 0.6321\n"
          ],
          "name": "stdout"
        },
        {
          "output_type": "execute_result",
          "data": {
            "text/plain": [
              "<tensorflow.python.keras.callbacks.History at 0x7f5b0a133278>"
            ]
          },
          "metadata": {
            "tags": []
          },
          "execution_count": 9
        }
      ]
    },
    {
      "metadata": {
        "id": "_ivM_IBqT30v",
        "colab_type": "code",
        "outputId": "f8383407-9b3a-4685-822b-6bc1bf3ff926",
        "colab": {
          "base_uri": "https://localhost:8080/",
          "height": 52
        }
      },
      "cell_type": "code",
      "source": [
        "test_loss, test_acc = model.evaluate(x_test, y_test)\n",
        "print('Test accuracy: %f' %test_acc)"
      ],
      "execution_count": 10,
      "outputs": [
        {
          "output_type": "stream",
          "text": [
            "71/71 [==============================] - 0s 641us/sample - loss: 0.1925 - acc: 1.0000\n",
            "Test accuracy: 1.000000\n"
          ],
          "name": "stdout"
        }
      ]
    },
    {
      "metadata": {
        "id": "lrzBzGeuUVZz",
        "colab_type": "code",
        "outputId": "8fc5424c-db58-45b2-a68d-8a8842e5bd27",
        "colab": {
          "base_uri": "https://localhost:8080/",
          "height": 301
        }
      },
      "cell_type": "code",
      "source": [
        "# history. all losses\n",
        "all_loss = model.history.history['loss'] \n",
        "print(len(all_loss))\n",
        "\n",
        "# show the training errors\n",
        "plt.plot(np.squeeze(all_loss))\n",
        "plt.xlabel('iterations');plt.ylabel('cost')\n",
        "#plt.title('Learning rate %f' %learning_rate)\n",
        "plt.show()"
      ],
      "execution_count": 11,
      "outputs": [
        {
          "output_type": "stream",
          "text": [
            "50\n"
          ],
          "name": "stdout"
        },
        {
          "output_type": "display_data",
          "data": {
            "image/png": "[encoded data removed]",
            "text/plain": [
              "<Figure size 432x288 with 1 Axes>"
            ]
          },
          "metadata": {
            "tags": []
          }
        }
      ]
    },
    {
      "metadata": {
        "id": "uiky5fuBZwOf",
        "colab_type": "text"
      },
      "cell_type": "markdown",
      "source": [
        "# PSO Algorithm"
      ]
    },
    {
      "metadata": {
        "id": "PBJU-POaaUOk",
        "colab_type": "code",
        "colab": {}
      },
      "cell_type": "code",
      "source": [
        "def fitness(str_costf,w):\n",
        "  model_nn.set_weights(w)\n",
        "  y_hat = model_nn.predict_on_batch(x_train)\n",
        "  if str_costf == 'LSE':\n",
        "    cost = np.linalg.norm(y_hat-y_train)**2/(y_train.shape[1]*x_train.shape[0])\n",
        "  elif str_costf == 'ABS':\n",
        "    cost = np.sum(np.abs(y_hat-y_train))/(y_train.shape[1]*x_train.shape[0])\n",
        "  return cost \n",
        "def gen_random_weights(NL):\n",
        "  w = list()\n",
        "  w_tmp = model_nn.get_weights()\n",
        "  for i in range(NL):\n",
        "    w.append(np.random.random_sample(w_tmp[i].shape)*0.8-0.4)\n",
        "  return w\n",
        "def list_subst(a,b):\n",
        "  # c=a-b\n",
        "  c=list()\n",
        "  for i in range(len(a)):\n",
        "    c.append(a[i]-b[i])\n",
        "  return c\n",
        "def list_mult(a,const):\n",
        "  # c=const*a\n",
        "  c=list()\n",
        "  for i in range(len(a)):\n",
        "    c.append(a[i]*const)\n",
        "  return c \n",
        "def list_mult_rand(a,const):\n",
        "  # c=const*a\n",
        "  c=list()\n",
        "  for i in range(len(a)):\n",
        "    prod = np.multiply(a[i],np.random.random_sample(a[i].shape))\n",
        "    c.append(prod*const)\n",
        "  return c\n",
        "def list_add(*arglist):\n",
        "  # d=a+b+c\n",
        "  d=list()\n",
        "  if len(arglist)==2:\n",
        "    for i in range(len(arglist[0])):\n",
        "      d.append(arglist[0][i]+arglist[1][i])\n",
        "    return d  \n",
        "  if len(arglist)==3:\n",
        "    for i in range(len(arglist[0])):\n",
        "      d.append(arglist[0][i]+arglist[1][i]+arglist[2][i])\n",
        "    return d \n",
        "def list_limit(a,amin,amax):\n",
        "  c=list()\n",
        "  for i in range(len(a)):\n",
        "    c.append(np.clip(a[i],amin,amax))\n",
        "  return c"
      ],
      "execution_count": 0,
      "outputs": []
    },
    {
      "metadata": {
        "id": "XgmeaF_gVEL5",
        "colab_type": "code",
        "colab": {}
      },
      "cell_type": "code",
      "source": [
        "#### PSO Algorithm\n",
        "NL=4\n",
        "model_nn = create_model(34,10,2)"
      ],
      "execution_count": 0,
      "outputs": []
    },
    {
      "metadata": {
        "id": "63gmyGmsb37V",
        "colab_type": "code",
        "colab": {}
      },
      "cell_type": "code",
      "source": [
        "Nparticles = 200\n",
        "Nepochs = 30\n",
        "# Create particles with random weigts matrix\n",
        "particles = list()\n",
        "vel_particles = list()\n",
        "for i in range(Nparticles):\n",
        "  particles.append(gen_random_weights(NL))\n",
        "  vel_particles.append(gen_random_weights(NL))"
      ],
      "execution_count": 0,
      "outputs": []
    },
    {
      "metadata": {
        "id": "7Blk0pIGt_j8",
        "colab_type": "code",
        "outputId": "4aa5f9b3-6ebe-4691-ac2c-3256c2a95e69",
        "colab": {
          "base_uri": "https://localhost:8080/",
          "height": 545
        }
      },
      "cell_type": "code",
      "source": [
        "c1=2;c2=2;w=1\n",
        "p_bestid = particles.copy()\n",
        "p_best = np.ones(Nparticles)*10\n",
        "g_bestid = list()\n",
        "g_best = 10\n",
        "cost = np.zeros(Nepochs)\n",
        "#w=np.linspace(2.0, 1.0, num=Nepochs)\n",
        "\n",
        "#Start trining\n",
        "for k in range(Nepochs):\n",
        "  #print(\"Epoch %2d of %2d , best cost = %% 5.2f\" %(k,Nepochs,))\n",
        "  for i in range(Nparticles):\n",
        "    fit = fitness('ABS',particles[i])\n",
        "    #print(fit)\n",
        "    if fit < p_best[i]:\n",
        "      p_best[i] = fit\n",
        "      p_bestid[i] = particles[i].copy()\n",
        "  idx = np.argmin(p_best)\n",
        "  g_bestid = p_bestid[idx].copy()\n",
        "  #print(len(particles[0]))\n",
        "  for i in range(Nparticles):\n",
        "    #r1=np.random.rand()\n",
        "    #r2=np.random.rand()\n",
        "    p_delx = list_subst(p_bestid[i],particles[i])\n",
        "    g_delx = list_subst(g_bestid   ,particles[i])\n",
        "    inertia = list_mult(vel_particles[i],w)\n",
        "    cognitive = list_mult_rand(p_delx,c1*r1)\n",
        "    social = list_mult_rand(g_delx,c2*r2)\n",
        "    vid = list_add(inertia,cognitive,social)\n",
        "    xid = list_add(particles[i],vid)\n",
        "    vel_particles[i]=list_limit(vid,-1,1)\n",
        "    particles[i]=list_limit(xid,-1,1)\n",
        "  cost[k]=p_best[idx]\n",
        "  #if cost[k]==cost[k-1]):\n",
        "  #  w = w*0.9\n",
        "  #  print(w)\n",
        "  print(\"Epoch %2d of %2d , best cost = %8.6f\" %(k,Nepochs,cost[k]))\n",
        "model_nn.set_weights(g_bestid)"
      ],
      "execution_count": 28,
      "outputs": [
        {
          "output_type": "stream",
          "text": [
            "Epoch  0 of 30 , best cost = 0.454941\n",
            "Epoch  1 of 30 , best cost = 0.393514\n",
            "Epoch  2 of 30 , best cost = 0.333551\n",
            "Epoch  3 of 30 , best cost = 0.291085\n",
            "Epoch  4 of 30 , best cost = 0.266664\n",
            "Epoch  5 of 30 , best cost = 0.247951\n",
            "Epoch  6 of 30 , best cost = 0.220890\n",
            "Epoch  7 of 30 , best cost = 0.187336\n",
            "Epoch  8 of 30 , best cost = 0.156158\n",
            "Epoch  9 of 30 , best cost = 0.143812\n",
            "Epoch 10 of 30 , best cost = 0.126748\n",
            "Epoch 11 of 30 , best cost = 0.111140\n",
            "Epoch 12 of 30 , best cost = 0.108712\n",
            "Epoch 13 of 30 , best cost = 0.106244\n",
            "Epoch 14 of 30 , best cost = 0.101688\n",
            "Epoch 15 of 30 , best cost = 0.098221\n",
            "Epoch 16 of 30 , best cost = 0.096275\n",
            "Epoch 17 of 30 , best cost = 0.094502\n",
            "Epoch 18 of 30 , best cost = 0.093631\n",
            "Epoch 19 of 30 , best cost = 0.092080\n",
            "Epoch 20 of 30 , best cost = 0.088532\n",
            "Epoch 21 of 30 , best cost = 0.085841\n",
            "Epoch 22 of 30 , best cost = 0.085525\n",
            "Epoch 23 of 30 , best cost = 0.085340\n",
            "Epoch 24 of 30 , best cost = 0.084823\n",
            "Epoch 25 of 30 , best cost = 0.084696\n",
            "Epoch 26 of 30 , best cost = 0.084593\n",
            "Epoch 27 of 30 , best cost = 0.084593\n",
            "Epoch 28 of 30 , best cost = 0.084406\n",
            "Epoch 29 of 30 , best cost = 0.084324\n"
          ],
          "name": "stdout"
        }
      ]
    },
    {
      "metadata": {
        "id": "4yqRITJ4eZdW",
        "colab_type": "code",
        "outputId": "91edc22b-4342-4223-df99-b85431910a5a",
        "colab": {
          "base_uri": "https://localhost:8080/",
          "height": 52
        }
      },
      "cell_type": "code",
      "source": [
        "model_nn.set_weights(g_bestid)\n",
        "test_loss, test_acc = model_nn.evaluate(x_test, y_test)\n",
        "print('Test accuracy: %f' %test_acc)"
      ],
      "execution_count": 29,
      "outputs": [
        {
          "output_type": "stream",
          "text": [
            "71/71 [==============================] - 0s 243us/sample - loss: 0.0168 - acc: 0.9718\n",
            "Test accuracy: 0.971831\n"
          ],
          "name": "stdout"
        }
      ]
    },
    {
      "metadata": {
        "id": "EQk4lgK6BcL3",
        "colab_type": "text"
      },
      "cell_type": "markdown",
      "source": [
        "##################################\n"
      ]
    }
  ]
}