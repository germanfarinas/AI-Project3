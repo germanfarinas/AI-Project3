{
  "nbformat": 4,
  "nbformat_minor": 0,
  "metadata": {
    "colab": {
      "name": "AI_project3_mediumdataset.ipynb",
      "version": "0.3.2",
      "provenance": [],
      "collapsed_sections": [],
      "toc_visible": true
    },
    "kernelspec": {
      "name": "python3",
      "display_name": "Python 3"
    },
    "accelerator": "GPU"
  },
  "cells": [
    {
      "metadata": {
        "id": "zoJ2nKs5AADn",
        "colab_type": "text"
      },
      "cell_type": "markdown",
      "source": [
        "# Demo AI project 3\n",
        "<a href=\"https://colab.research.google.com/github/germanfarinas/AI-Project3/AI_project3_mediumdataset.ipynb\">\n",
        "  <img src=\"https://colab.research.google.com/assets/colab-badge.svg\" alt=\"Open In Colab\"/>\n",
        "</a>"
      ]
    },
    {
      "metadata": {
        "id": "JB6kZ749eVuU",
        "colab_type": "code",
        "colab": {}
      },
      "cell_type": "code",
      "source": [
        "# imports\n",
        "import tensorflow as tf\n",
        "import numpy as np\n",
        "import matplotlib.pyplot as plt\n",
        "from tensorflow import keras\n",
        "import os   # to save the checkpoint\n",
        "import pandas as pd\n",
        "#sess = tf.InteractiveSession()"
      ],
      "execution_count": 0,
      "outputs": []
    },
    {
      "metadata": {
        "id": "psrHVWJF9Hwi",
        "colab_type": "code",
        "outputId": "a5cd0990-78e5-4f92-bf21-c99722e8cc02",
        "colab": {
          "base_uri": "https://localhost:8080/",
          "height": 72
        }
      },
      "cell_type": "code",
      "source": [
        "from google.colab import drive\n",
        "drive.mount('/content/gdrive')\n",
        "root_path = r\"/content/gdrive/My Drive/Colab Notebooks/Data\"  #change dir to your project folder\n",
        "os.chdir(root_path)\n",
        "os.getcwd()"
      ],
      "execution_count": 0,
      "outputs": [
        {
          "output_type": "stream",
          "text": [
            "Drive already mounted at /content/gdrive; to attempt to forcibly remount, call drive.mount(\"/content/gdrive\", force_remount=True).\n"
          ],
          "name": "stdout"
        },
        {
          "output_type": "execute_result",
          "data": {
            "text/plain": [
              "'/content/gdrive/My Drive/Colab Notebooks/Data'"
            ]
          },
          "metadata": {
            "tags": []
          },
          "execution_count": 60
        }
      ]
    },
    {
      "metadata": {
        "id": "s_lbbOFsHZai",
        "colab_type": "text"
      },
      "cell_type": "markdown",
      "source": [
        "# Example 1 Ionospheric Dataset"
      ]
    },
    {
      "metadata": {
        "id": "yBDtFHjz98yr",
        "colab_type": "code",
        "colab": {}
      },
      "cell_type": "code",
      "source": [
        "#Prepare the data\n",
        "def read_dataset():\n",
        "  file = \"ionosphere.txt\"\n",
        "  data = pd.read_csv(file,delim_whitespace=False,header=-1)\n",
        "  data = np.array(data)\n",
        "  data\n",
        "  #np.random.shuffle(data)\n",
        "  # #Training Data\n",
        "  ratio = 0.8 # train/Total\n",
        "  training_data = data[0:int(len(data)*ratio)]\n",
        "  training_data\n",
        "  testing_data = data[int(len(data)*ratio):len(data)]\n",
        "  x_train = training_data[:, 0:34]\n",
        "  y_train = x_train.astype(float)\n",
        "  y_train = training_data[:, 34:35]\n",
        "  y_train = y_train.T[0]=='g'\n",
        "  y_train = y_train.astype(int)\n",
        "  #Testing Data\n",
        "  x_test = testing_data[:, 0:34]\n",
        "  x_test = x_test.astype(float)\n",
        "  y_test = testing_data[:, 34:35]\n",
        "  y_test = y_test.T[0]=='g'\n",
        "  y_test = y_test.astype(int)\n",
        "  return x_train,y_train,x_test,y_test\n",
        "\n",
        "def create_model(N_input,N_hidden,N_output):\n",
        "  model = tf.keras.Sequential()\n",
        "  model.add(tf.keras.layers.Dense(N_hidden,input_dim = N_input, activation='relu')) \n",
        "  model.add(tf.keras.layers.Dense(N_output, activation='sigmoid'))\n",
        "  \n",
        "  model.compile(loss='mean_squared_error',\n",
        "             optimizer='sgd',\n",
        "             metrics=['accuracy'])\n",
        "  \n",
        "  return model"
      ],
      "execution_count": 0,
      "outputs": []
    },
    {
      "metadata": {
        "id": "9tTfsEAWEy6g",
        "colab_type": "code",
        "outputId": "99d751a7-45c7-4a4f-facd-d47f8f5a0aff",
        "colab": {
          "base_uri": "https://localhost:8080/",
          "height": 86
        }
      },
      "cell_type": "code",
      "source": [
        "x_train, y_train, x_test, y_test = read_dataset()\n",
        "print('Training data size:' + str(x_train.shape))\n",
        "print('Training labels size: ' + str(y_train.shape))\n",
        "print('Test data size: ' + str(x_test.shape))\n",
        "print('Test label size: ' + str(y_test.shape))"
      ],
      "execution_count": 0,
      "outputs": [
        {
          "output_type": "stream",
          "text": [
            "Training data size:(280, 34)\n",
            "Training labels size: (280,)\n",
            "Test data size: (71, 34)\n",
            "Test label size: (71,)\n"
          ],
          "name": "stdout"
        }
      ]
    },
    {
      "metadata": {
        "id": "rjMLOFLuFioA",
        "colab_type": "code",
        "outputId": "494bd3c0-9021-42bd-f4b1-ddc6c422cb70",
        "colab": {
          "base_uri": "https://localhost:8080/",
          "height": 52
        }
      },
      "cell_type": "code",
      "source": [
        "labels = ['b','g']\n",
        "print(labels)\n",
        "print(y_train[0], labels[y_train[0]])"
      ],
      "execution_count": 0,
      "outputs": [
        {
          "output_type": "stream",
          "text": [
            "['b', 'g']\n",
            "1 g\n"
          ],
          "name": "stdout"
        }
      ]
    },
    {
      "metadata": {
        "colab_type": "code",
        "outputId": "da0a2194-1ed8-44d8-bac1-91d8b7dd4433",
        "id": "oT3fT8EcOGuh",
        "colab": {
          "base_uri": "https://localhost:8080/",
          "height": 121
        }
      },
      "cell_type": "code",
      "source": [
        "# Convert the labels to one-hot vectors\n",
        "print(y_train[0:5])\n",
        "y_train = tf.keras.utils.to_categorical(y_train, 2)  # 10 classes\n",
        "y_test = tf.keras.utils.to_categorical(y_test, 2)\n",
        "print(y_train[0:5])"
      ],
      "execution_count": 0,
      "outputs": [
        {
          "output_type": "stream",
          "text": [
            "[1 0 1 0 1]\n",
            "[[0. 1.]\n",
            " [1. 0.]\n",
            " [0. 1.]\n",
            " [1. 0.]\n",
            " [0. 1.]]\n"
          ],
          "name": "stdout"
        }
      ]
    },
    {
      "metadata": {
        "id": "KflX8zSfImCp",
        "colab_type": "code",
        "colab": {}
      },
      "cell_type": "code",
      "source": [
        "model = create_model(34,5,2)\n",
        "#model.summary()"
      ],
      "execution_count": 0,
      "outputs": []
    },
    {
      "metadata": {
        "id": "tjYN6iYURUTU",
        "colab_type": "code",
        "outputId": "c3d73706-fef0-427a-8733-f5e64f73e1b6",
        "colab": {
          "base_uri": "https://localhost:8080/",
          "height": 207
        }
      },
      "cell_type": "code",
      "source": [
        "model.summary()"
      ],
      "execution_count": 0,
      "outputs": [
        {
          "output_type": "stream",
          "text": [
            "_________________________________________________________________\n",
            "Layer (type)                 Output Shape              Param #   \n",
            "=================================================================\n",
            "dense_28 (Dense)             (None, 5)                 175       \n",
            "_________________________________________________________________\n",
            "dense_29 (Dense)             (None, 2)                 12        \n",
            "=================================================================\n",
            "Total params: 187\n",
            "Trainable params: 187\n",
            "Non-trainable params: 0\n",
            "_________________________________________________________________\n"
          ],
          "name": "stdout"
        }
      ]
    },
    {
      "metadata": {
        "id": "_62iy4U0TpHq",
        "colab_type": "code",
        "outputId": "fa02e0e8-42a6-4c51-83c5-561f23cd61c6",
        "colab": {
          "base_uri": "https://localhost:8080/",
          "height": 1762
        }
      },
      "cell_type": "code",
      "source": [
        "n_iteration = 50\n",
        "model.fit(x_train, y_train, batch_size=10, epochs=n_iteration, shuffle=True)"
      ],
      "execution_count": 0,
      "outputs": [
        {
          "output_type": "stream",
          "text": [
            "Epoch 1/50\n",
            "280/280 [==============================] - 0s 678us/sample - loss: 0.2581 - acc: 0.6107\n",
            "Epoch 2/50\n",
            "280/280 [==============================] - 0s 272us/sample - loss: 0.2557 - acc: 0.6179\n",
            "Epoch 3/50\n",
            "280/280 [==============================] - 0s 267us/sample - loss: 0.2534 - acc: 0.6143\n",
            "Epoch 4/50\n",
            "280/280 [==============================] - 0s 274us/sample - loss: 0.2514 - acc: 0.6143\n",
            "Epoch 5/50\n",
            "280/280 [==============================] - 0s 281us/sample - loss: 0.2494 - acc: 0.6143\n",
            "Epoch 6/50\n",
            "280/280 [==============================] - 0s 275us/sample - loss: 0.2477 - acc: 0.6143\n",
            "Epoch 7/50\n",
            "280/280 [==============================] - 0s 305us/sample - loss: 0.2460 - acc: 0.6143\n",
            "Epoch 8/50\n",
            "280/280 [==============================] - 0s 354us/sample - loss: 0.2445 - acc: 0.6107\n",
            "Epoch 9/50\n",
            "280/280 [==============================] - 0s 312us/sample - loss: 0.2430 - acc: 0.6143\n",
            "Epoch 10/50\n",
            "280/280 [==============================] - 0s 316us/sample - loss: 0.2414 - acc: 0.6143\n",
            "Epoch 11/50\n",
            "280/280 [==============================] - 0s 304us/sample - loss: 0.2400 - acc: 0.6143\n",
            "Epoch 12/50\n",
            "280/280 [==============================] - 0s 292us/sample - loss: 0.2386 - acc: 0.6179\n",
            "Epoch 13/50\n",
            "280/280 [==============================] - 0s 292us/sample - loss: 0.2373 - acc: 0.6179\n",
            "Epoch 14/50\n",
            "280/280 [==============================] - 0s 275us/sample - loss: 0.2360 - acc: 0.6214\n",
            "Epoch 15/50\n",
            "280/280 [==============================] - 0s 288us/sample - loss: 0.2347 - acc: 0.6214\n",
            "Epoch 16/50\n",
            "280/280 [==============================] - 0s 281us/sample - loss: 0.2335 - acc: 0.6214\n",
            "Epoch 17/50\n",
            "280/280 [==============================] - 0s 286us/sample - loss: 0.2322 - acc: 0.6214\n",
            "Epoch 18/50\n",
            "280/280 [==============================] - 0s 282us/sample - loss: 0.2310 - acc: 0.6286\n",
            "Epoch 19/50\n",
            "280/280 [==============================] - 0s 285us/sample - loss: 0.2298 - acc: 0.6286\n",
            "Epoch 20/50\n",
            "280/280 [==============================] - 0s 306us/sample - loss: 0.2286 - acc: 0.6321\n",
            "Epoch 21/50\n",
            "280/280 [==============================] - 0s 284us/sample - loss: 0.2274 - acc: 0.6357\n",
            "Epoch 22/50\n",
            "280/280 [==============================] - 0s 285us/sample - loss: 0.2262 - acc: 0.6393\n",
            "Epoch 23/50\n",
            "280/280 [==============================] - 0s 273us/sample - loss: 0.2250 - acc: 0.6429\n",
            "Epoch 24/50\n",
            "280/280 [==============================] - 0s 304us/sample - loss: 0.2238 - acc: 0.6500\n",
            "Epoch 25/50\n",
            "280/280 [==============================] - 0s 305us/sample - loss: 0.2226 - acc: 0.6536\n",
            "Epoch 26/50\n",
            "280/280 [==============================] - 0s 300us/sample - loss: 0.2214 - acc: 0.6607\n",
            "Epoch 27/50\n",
            "280/280 [==============================] - 0s 305us/sample - loss: 0.2202 - acc: 0.6607\n",
            "Epoch 28/50\n",
            "280/280 [==============================] - 0s 315us/sample - loss: 0.2190 - acc: 0.6643\n",
            "Epoch 29/50\n",
            "280/280 [==============================] - 0s 293us/sample - loss: 0.2179 - acc: 0.6643\n",
            "Epoch 30/50\n",
            "280/280 [==============================] - 0s 315us/sample - loss: 0.2167 - acc: 0.6679\n",
            "Epoch 31/50\n",
            "280/280 [==============================] - 0s 347us/sample - loss: 0.2156 - acc: 0.6714\n",
            "Epoch 32/50\n",
            "280/280 [==============================] - 0s 313us/sample - loss: 0.2144 - acc: 0.6750\n",
            "Epoch 33/50\n",
            "280/280 [==============================] - 0s 310us/sample - loss: 0.2132 - acc: 0.6857\n",
            "Epoch 34/50\n",
            "280/280 [==============================] - 0s 303us/sample - loss: 0.2121 - acc: 0.6964\n",
            "Epoch 35/50\n",
            "280/280 [==============================] - 0s 303us/sample - loss: 0.2110 - acc: 0.7107\n",
            "Epoch 36/50\n",
            "280/280 [==============================] - 0s 300us/sample - loss: 0.2098 - acc: 0.7107\n",
            "Epoch 37/50\n",
            "280/280 [==============================] - 0s 303us/sample - loss: 0.2087 - acc: 0.7179\n",
            "Epoch 38/50\n",
            "280/280 [==============================] - 0s 302us/sample - loss: 0.2076 - acc: 0.7250\n",
            "Epoch 39/50\n",
            "280/280 [==============================] - 0s 301us/sample - loss: 0.2065 - acc: 0.7321\n",
            "Epoch 40/50\n",
            "280/280 [==============================] - 0s 303us/sample - loss: 0.2055 - acc: 0.7321\n",
            "Epoch 41/50\n",
            "280/280 [==============================] - 0s 305us/sample - loss: 0.2044 - acc: 0.7321\n",
            "Epoch 42/50\n",
            "280/280 [==============================] - 0s 362us/sample - loss: 0.2034 - acc: 0.7321\n",
            "Epoch 43/50\n",
            "280/280 [==============================] - 0s 313us/sample - loss: 0.2023 - acc: 0.7321\n",
            "Epoch 44/50\n",
            "280/280 [==============================] - 0s 316us/sample - loss: 0.2013 - acc: 0.7393\n",
            "Epoch 45/50\n",
            "280/280 [==============================] - 0s 315us/sample - loss: 0.2002 - acc: 0.7429\n",
            "Epoch 46/50\n",
            "280/280 [==============================] - 0s 318us/sample - loss: 0.1991 - acc: 0.7464\n",
            "Epoch 47/50\n",
            "280/280 [==============================] - 0s 307us/sample - loss: 0.1980 - acc: 0.7500\n",
            "Epoch 48/50\n",
            "280/280 [==============================] - 0s 305us/sample - loss: 0.1970 - acc: 0.7500\n",
            "Epoch 49/50\n",
            "280/280 [==============================] - 0s 302us/sample - loss: 0.1959 - acc: 0.7536\n",
            "Epoch 50/50\n",
            "280/280 [==============================] - 0s 309us/sample - loss: 0.1948 - acc: 0.7536\n"
          ],
          "name": "stdout"
        },
        {
          "output_type": "execute_result",
          "data": {
            "text/plain": [
              "<tensorflow.python.keras.callbacks.History at 0x7f855adf4b38>"
            ]
          },
          "metadata": {
            "tags": []
          },
          "execution_count": 139
        }
      ]
    },
    {
      "metadata": {
        "id": "_ivM_IBqT30v",
        "colab_type": "code",
        "outputId": "d524f649-6a53-4dcd-a3ac-5a5966ffdc68",
        "colab": {
          "base_uri": "https://localhost:8080/",
          "height": 52
        }
      },
      "cell_type": "code",
      "source": [
        "test_loss, test_acc = model.evaluate(x_test, y_test)\n",
        "print('Test accuracy: %f' %test_acc)"
      ],
      "execution_count": 0,
      "outputs": [
        {
          "output_type": "stream",
          "text": [
            "71/71 [==============================] - 0s 1ms/sample - loss: 0.1242 - acc: 0.9577\n",
            "Test accuracy: 0.957747\n"
          ],
          "name": "stdout"
        }
      ]
    },
    {
      "metadata": {
        "id": "lrzBzGeuUVZz",
        "colab_type": "code",
        "outputId": "5c59c420-db1a-4bcd-df61-a569b76bad14",
        "colab": {
          "base_uri": "https://localhost:8080/",
          "height": 301
        }
      },
      "cell_type": "code",
      "source": [
        "# history. all losses\n",
        "all_loss = model.history.history['loss'] \n",
        "print(len(all_loss))\n",
        "\n",
        "# show the training errors\n",
        "plt.plot(np.squeeze(all_loss))\n",
        "plt.xlabel('iterations');plt.ylabel('cost')\n",
        "#plt.title('Learning rate %f' %learning_rate)\n",
        "plt.show()"
      ],
      "execution_count": 0,
      "outputs": [
        {
          "output_type": "stream",
          "text": [
            "50\n"
          ],
          "name": "stdout"
        },
        {
          "output_type": "display_data",
          "data": {
            "image/png": "[encoded data removed]",
            "text/plain": [
              "<Figure size 432x288 with 1 Axes>"
            ]
          },
          "metadata": {
            "tags": []
          }
        }
      ]
    },
    {
      "metadata": {
        "id": "uiky5fuBZwOf",
        "colab_type": "text"
      },
      "cell_type": "markdown",
      "source": [
        "# PSO Algorithm"
      ]
    },
    {
      "metadata": {
        "id": "PBJU-POaaUOk",
        "colab_type": "code",
        "colab": {}
      },
      "cell_type": "code",
      "source": [
        "def fitness(str_costf,w):\n",
        "  model_nn.set_weights(w)\n",
        "  y_hat = model_nn.predict_on_batch(x_train)\n",
        "  if str_costf == 'LSE':\n",
        "    cost = np.linalg.norm(y_hat-y_train)**2/(y_train.shape[1]*x_train.shape[0])\n",
        "  elif str_costf == 'ABS':\n",
        "    cost = np.sum(np.abs(y_hat-y_train))/(y_train.shape[1]*x_train.shape[0])\n",
        "  return cost \n",
        "def gen_random_weights(NL):\n",
        "  w = list()\n",
        "  w_tmp = model_nn.get_weights()\n",
        "  for i in range(NL):\n",
        "    w.append(np.random.random_sample(w_tmp[i].shape)*0.8-0.4)\n",
        "  return w\n",
        "def list_subst(a,b):\n",
        "  # c=a-b\n",
        "  c=list()\n",
        "  for i in range(len(a)):\n",
        "    c.append(a[i]-b[i])\n",
        "  return c\n",
        "def list_mult(a,const):\n",
        "  # c=const*a\n",
        "  c=list()\n",
        "  for i in range(len(a)):\n",
        "    c.append(a[i]*const)\n",
        "  return c \n",
        "def list_add(*arglist):\n",
        "  # d=a+b+c\n",
        "  d=list()\n",
        "  if len(arglist)==2:\n",
        "    for i in range(len(arglist[0])):\n",
        "      d.append(arglist[0][i]+arglist[1][i])\n",
        "    return d  \n",
        "  if len(arglist)==3:\n",
        "    for i in range(len(arglist[0])):\n",
        "      d.append(arglist[0][i]+arglist[1][i]+arglist[2][i])\n",
        "    return d \n",
        "def list_limit(a,amin,amax):\n",
        "  c=list()\n",
        "  for i in range(len(a)):\n",
        "    c.append(np.clip(a[i],amin,amax))\n",
        "  return c"
      ],
      "execution_count": 0,
      "outputs": []
    },
    {
      "metadata": {
        "id": "XgmeaF_gVEL5",
        "colab_type": "code",
        "colab": {}
      },
      "cell_type": "code",
      "source": [
        "#### PSO Algorithm\n",
        "NL=3\n",
        "model_nn = create_model(34,10,2)"
      ],
      "execution_count": 0,
      "outputs": []
    },
    {
      "metadata": {
        "id": "63gmyGmsb37V",
        "colab_type": "code",
        "colab": {}
      },
      "cell_type": "code",
      "source": [
        "Nparticles = 200\n",
        "Nepochs = 20\n",
        "# Create particles with random weigts matrix\n",
        "particles = list()\n",
        "vel_particles = list()\n",
        "for i in range(Nparticles):\n",
        "  particles.append(gen_random_weights(NL))\n",
        "  vel_particles.append(gen_random_weights(NL))"
      ],
      "execution_count": 0,
      "outputs": []
    },
    {
      "metadata": {
        "id": "7Blk0pIGt_j8",
        "colab_type": "code",
        "outputId": "5cdcb901-98d6-4708-ce53-182cb55bc027",
        "colab": {
          "base_uri": "https://localhost:8080/",
          "height": 363
        }
      },
      "cell_type": "code",
      "source": [
        "c1=2;c2=2;w=1\n",
        "p_bestid = particles.copy()\n",
        "p_best = np.ones(Nparticles)*10\n",
        "g_bestid = list()\n",
        "g_best = 10\n",
        "cost = np.zeros(Nepochs)\n",
        "#w=np.linspace(2.0, 1.0, num=Nepochs)\n",
        "\n",
        "#Start trining\n",
        "for k in range(Nepochs):\n",
        "  #print(\"Epoch %2d of %2d , best cost = %% 5.2f\" %(k,Nepochs,))\n",
        "  for i in range(Nparticles):\n",
        "    fit = fitness('ABS',particles[i])\n",
        "    #print(fit)\n",
        "    if fit < p_best[i]:\n",
        "      p_best[i] = fit\n",
        "      p_bestid.insert(i,particles[i])\n",
        "  idx = np.argmin(p_best)\n",
        "  g_bestid = p_bestid[idx].copy()\n",
        "  #print(len(particles[0]))\n",
        "  for i in range(Nparticles):\n",
        "    r1=np.random.rand()\n",
        "    r2=np.random.rand()\n",
        "    p_delx = list_subst(p_bestid[i],particles[i])\n",
        "    g_delx = list_subst(g_bestid   ,particles[i])\n",
        "    inertia = list_mult(vel_particles[i],w)\n",
        "    cognitive = list_mult(p_delx,c1*r1)\n",
        "    social = list_mult(g_delx,c2*r2)\n",
        "    vid = list_add(inertia,cognitive,social)\n",
        "    xid = list_add(particles[i],vid)\n",
        "    vel_particles[i]=list_limit(vid,-1,1)\n",
        "    particles[i]=list_limit(xid,-1,1)\n",
        "  cost[k]=p_best[idx]\n",
        "  #if cost[k]==cost[k-1]):\n",
        "  #  w = w*0.9\n",
        "  #  print(w)\n",
        "  print(\"Epoch %2d of %2d , best cost = %8.6f\" %(k,Nepochs,cost[k]))\n",
        "model_nn.set_weights(g_bestid)"
      ],
      "execution_count": 0,
      "outputs": [
        {
          "output_type": "stream",
          "text": [
            "Epoch  0 of 20 , best cost = 0.445644\n",
            "Epoch  1 of 20 , best cost = 0.283931\n",
            "Epoch  2 of 20 , best cost = 0.229605\n",
            "Epoch  3 of 20 , best cost = 0.229605\n",
            "Epoch  4 of 20 , best cost = 0.229605\n",
            "Epoch  5 of 20 , best cost = 0.229605\n",
            "Epoch  6 of 20 , best cost = 0.229605\n",
            "Epoch  7 of 20 , best cost = 0.220436\n",
            "Epoch  8 of 20 , best cost = 0.204666\n",
            "Epoch  9 of 20 , best cost = 0.198122\n",
            "Epoch 10 of 20 , best cost = 0.189600\n",
            "Epoch 11 of 20 , best cost = 0.184049\n",
            "Epoch 12 of 20 , best cost = 0.176032\n",
            "Epoch 13 of 20 , best cost = 0.166650\n",
            "Epoch 14 of 20 , best cost = 0.157562\n",
            "Epoch 15 of 20 , best cost = 0.156991\n",
            "Epoch 16 of 20 , best cost = 0.156089\n",
            "Epoch 17 of 20 , best cost = 0.153389\n",
            "Epoch 18 of 20 , best cost = 0.148215\n",
            "Epoch 19 of 20 , best cost = 0.141020\n"
          ],
          "name": "stdout"
        }
      ]
    },
    {
      "metadata": {
        "id": "4yqRITJ4eZdW",
        "colab_type": "code",
        "outputId": "2ed4e65f-5036-494a-bd15-c0bb5097e30d",
        "colab": {
          "base_uri": "https://localhost:8080/",
          "height": 52
        }
      },
      "cell_type": "code",
      "source": [
        "model_nn.set_weights(g_bestid)\n",
        "test_loss, test_acc = model_nn.evaluate(x_test, y_test)\n",
        "print('Test accuracy: %f' %test_acc)"
      ],
      "execution_count": 0,
      "outputs": [
        {
          "output_type": "stream",
          "text": [
            "71/71 [==============================] - 0s 1ms/sample - loss: 0.0115 - acc: 0.9859\n",
            "Test accuracy: 0.985915\n"
          ],
          "name": "stdout"
        }
      ]
    },
    {
      "metadata": {
        "id": "EQk4lgK6BcL3",
        "colab_type": "text"
      },
      "cell_type": "markdown",
      "source": [
        "##################################\n"
      ]
    }
  ]
}