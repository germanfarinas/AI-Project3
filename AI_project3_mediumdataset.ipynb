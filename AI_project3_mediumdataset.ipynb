{
  "nbformat": 4,
  "nbformat_minor": 0,
  "metadata": {
    "colab": {
      "name": "AI_project3_mediumdataset.ipynb",
      "version": "0.3.2",
      "provenance": [],
      "collapsed_sections": [],
      "toc_visible": true,
      "include_colab_link": true
    },
    "kernelspec": {
      "name": "python3",
      "display_name": "Python 3"
    },
    "accelerator": "GPU"
  },
  "cells": [
    {
      "cell_type": "markdown",
      "metadata": {
        "id": "view-in-github",
        "colab_type": "text"
      },
      "source": [
        "<a href=\"https://colab.research.google.com/github/germanfarinas/AI-Project3/blob/master/AI_project3_mediumdataset.ipynb\" target=\"_parent\"><img src=\"https://colab.research.google.com/assets/colab-badge.svg\" alt=\"Open In Colab\"/></a>"
      ]
    },
    {
      "metadata": {
        "id": "zoJ2nKs5AADn",
        "colab_type": "text"
      },
      "cell_type": "markdown",
      "source": [
        "# Demo AI project 3 Medium dataset (~300 training samples)"
      ]
    },
    {
      "metadata": {
        "id": "JB6kZ749eVuU",
        "colab_type": "code",
        "colab": {}
      },
      "cell_type": "code",
      "source": [
        "# imports\n",
        "import tensorflow as tf\n",
        "import numpy as np\n",
        "import matplotlib.pyplot as plt\n",
        "from tensorflow import keras\n",
        "import os   # to save the checkpoint\n",
        "import pandas as pd\n",
        "#sess = tf.InteractiveSession()"
      ],
      "execution_count": 0,
      "outputs": []
    },
    {
      "metadata": {
        "id": "psrHVWJF9Hwi",
        "colab_type": "code",
        "outputId": "392423cb-3908-4357-9ade-31a4d76d7380",
        "colab": {
          "base_uri": "https://localhost:8080/",
          "height": 54
        }
      },
      "cell_type": "code",
      "source": [
        "from google.colab import drive\n",
        "drive.mount('/content/gdrive')\n",
        "root_path = r\"/content/gdrive/My Drive/Colab Notebooks/Data\"  #change dir to your project folder\n",
        "os.chdir(root_path)\n",
        "os.getcwd()\n",
        "if not os.path.isfile('ionosphere.data'):\n",
        "  !wget https://archive.ics.uci.edu/ml/machine-learning-databases/ionosphere/ionosphere.data"
      ],
      "execution_count": 2,
      "outputs": [
        {
          "output_type": "stream",
          "text": [
            "Drive already mounted at /content/gdrive; to attempt to forcibly remount, call drive.mount(\"/content/gdrive\", force_remount=True).\n"
          ],
          "name": "stdout"
        }
      ]
    },
    {
      "metadata": {
        "id": "s_lbbOFsHZai",
        "colab_type": "text"
      },
      "cell_type": "markdown",
      "source": [
        "# Example 1 Ionospheric Dataset"
      ]
    },
    {
      "metadata": {
        "id": "yBDtFHjz98yr",
        "colab_type": "code",
        "colab": {}
      },
      "cell_type": "code",
      "source": [
        "#Prepare the data\n",
        "def read_dataset():\n",
        "  file = \"ionosphere.data\"\n",
        "  data = pd.read_csv(file,delim_whitespace=False,header=-1)\n",
        "  data = np.array(data)\n",
        "  data\n",
        "  #np.random.shuffle(data)\n",
        "  # #Training Data\n",
        "  ratio = 0.8 # train/Total\n",
        "  training_data = data[0:int(len(data)*ratio)]\n",
        "  training_data\n",
        "  testing_data = data[int(len(data)*ratio):len(data)]\n",
        "  x_train = training_data[:, 0:34]\n",
        "  y_train = x_train.astype(float)\n",
        "  y_train = training_data[:, 34:35]\n",
        "  y_train = y_train.T[0]=='g'\n",
        "  y_train = y_train.astype(int)\n",
        "  #Testing Data\n",
        "  x_test = testing_data[:, 0:34]\n",
        "  x_test = x_test.astype(float)\n",
        "  y_test = testing_data[:, 34:35]\n",
        "  y_test = y_test.T[0]=='g'\n",
        "  y_test = y_test.astype(int)\n",
        "  return x_train,y_train,x_test,y_test\n",
        "\n",
        "def create_model(N_input,N_hidden,N_output):\n",
        "  model = tf.keras.Sequential()\n",
        "  model.add(tf.keras.layers.Dense(N_hidden,input_dim = N_input, activation='relu')) \n",
        "  model.add(tf.keras.layers.Dense(N_output, activation='sigmoid'))\n",
        "  \n",
        "  model.compile(loss='mean_squared_error',\n",
        "             optimizer='sgd',\n",
        "             metrics=['accuracy'])\n",
        "  \n",
        "  return model"
      ],
      "execution_count": 0,
      "outputs": []
    },
    {
      "metadata": {
        "id": "9tTfsEAWEy6g",
        "colab_type": "code",
        "outputId": "fb982619-6f86-4f1c-fc55-2a06d6ce2c9f",
        "colab": {
          "base_uri": "https://localhost:8080/",
          "height": 87
        }
      },
      "cell_type": "code",
      "source": [
        "x_train, y_train, x_test, y_test = read_dataset()\n",
        "print('Training data size:' + str(x_train.shape))\n",
        "print('Training labels size: ' + str(y_train.shape))\n",
        "print('Test data size: ' + str(x_test.shape))\n",
        "print('Test label size: ' + str(y_test.shape))"
      ],
      "execution_count": 23,
      "outputs": [
        {
          "output_type": "stream",
          "text": [
            "Training data size:(280, 34)\n",
            "Training labels size: (280,)\n",
            "Test data size: (71, 34)\n",
            "Test label size: (71,)\n"
          ],
          "name": "stdout"
        }
      ]
    },
    {
      "metadata": {
        "id": "rjMLOFLuFioA",
        "colab_type": "code",
        "outputId": "7c409011-20a1-4026-8719-15b266f57d1d",
        "colab": {
          "base_uri": "https://localhost:8080/",
          "height": 52
        }
      },
      "cell_type": "code",
      "source": [
        "labels = ['b','g']\n",
        "print(labels)\n",
        "print(y_train[0], labels[y_train[0]])"
      ],
      "execution_count": 24,
      "outputs": [
        {
          "output_type": "stream",
          "text": [
            "['b', 'g']\n",
            "1 g\n"
          ],
          "name": "stdout"
        }
      ]
    },
    {
      "metadata": {
        "colab_type": "code",
        "outputId": "39c4adfc-626e-4e0c-f1e3-3a8729fc88f2",
        "id": "oT3fT8EcOGuh",
        "colab": {
          "base_uri": "https://localhost:8080/",
          "height": 122
        }
      },
      "cell_type": "code",
      "source": [
        "# Convert the labels to one-hot vectors\n",
        "print(y_train[0:5])\n",
        "y_train_not_onehot = y_train\n",
        "y_train = tf.keras.utils.to_categorical(y_train, 2)  # 10 classes\n",
        "y_test = tf.keras.utils.to_categorical(y_test, 2)\n",
        "print(y_train[0:5])\n",
        "#y_train_not_onehot = y_train.argmax(axis=1)"
      ],
      "execution_count": 25,
      "outputs": [
        {
          "output_type": "stream",
          "text": [
            "[1 0 1 0 1]\n",
            "[[0. 1.]\n",
            " [1. 0.]\n",
            " [0. 1.]\n",
            " [1. 0.]\n",
            " [0. 1.]]\n"
          ],
          "name": "stdout"
        }
      ]
    },
    {
      "metadata": {
        "id": "KflX8zSfImCp",
        "colab_type": "code",
        "colab": {}
      },
      "cell_type": "code",
      "source": [
        "model = create_model(34,10,2)\n",
        "#model.summary()"
      ],
      "execution_count": 0,
      "outputs": []
    },
    {
      "metadata": {
        "id": "tjYN6iYURUTU",
        "colab_type": "code",
        "outputId": "3fec5662-d020-4948-a906-9de717d0a7ce",
        "colab": {
          "base_uri": "https://localhost:8080/",
          "height": 210
        }
      },
      "cell_type": "code",
      "source": [
        "model.summary()"
      ],
      "execution_count": 27,
      "outputs": [
        {
          "output_type": "stream",
          "text": [
            "_________________________________________________________________\n",
            "Layer (type)                 Output Shape              Param #   \n",
            "=================================================================\n",
            "dense_4 (Dense)              (None, 10)                350       \n",
            "_________________________________________________________________\n",
            "dense_5 (Dense)              (None, 2)                 22        \n",
            "=================================================================\n",
            "Total params: 372\n",
            "Trainable params: 372\n",
            "Non-trainable params: 0\n",
            "_________________________________________________________________\n"
          ],
          "name": "stdout"
        }
      ]
    },
    {
      "metadata": {
        "id": "_62iy4U0TpHq",
        "colab_type": "code",
        "outputId": "627b7cb0-6a65-4b80-8bf4-dac60e98b1ef",
        "colab": {
          "base_uri": "https://localhost:8080/",
          "height": 1794
        }
      },
      "cell_type": "code",
      "source": [
        "n_iteration = 50\n",
        "model.fit(x_train, y_train, batch_size=10, epochs=n_iteration, shuffle=True)"
      ],
      "execution_count": 28,
      "outputs": [
        {
          "output_type": "stream",
          "text": [
            "Epoch 1/50\n",
            "280/280 [==============================] - 0s 426us/sample - loss: 0.2406 - acc: 0.6750\n",
            "Epoch 2/50\n",
            "280/280 [==============================] - 0s 206us/sample - loss: 0.2378 - acc: 0.6821\n",
            "Epoch 3/50\n",
            "280/280 [==============================] - 0s 205us/sample - loss: 0.2350 - acc: 0.6929\n",
            "Epoch 4/50\n",
            "280/280 [==============================] - 0s 210us/sample - loss: 0.2324 - acc: 0.7000\n",
            "Epoch 5/50\n",
            "280/280 [==============================] - 0s 224us/sample - loss: 0.2297 - acc: 0.7071\n",
            "Epoch 6/50\n",
            "280/280 [==============================] - 0s 218us/sample - loss: 0.2272 - acc: 0.7179\n",
            "Epoch 7/50\n",
            "280/280 [==============================] - 0s 252us/sample - loss: 0.2246 - acc: 0.7250\n",
            "Epoch 8/50\n",
            "280/280 [==============================] - 0s 211us/sample - loss: 0.2221 - acc: 0.7357\n",
            "Epoch 9/50\n",
            "280/280 [==============================] - 0s 214us/sample - loss: 0.2195 - acc: 0.7429\n",
            "Epoch 10/50\n",
            "280/280 [==============================] - 0s 212us/sample - loss: 0.2171 - acc: 0.7536\n",
            "Epoch 11/50\n",
            "280/280 [==============================] - 0s 210us/sample - loss: 0.2147 - acc: 0.7571\n",
            "Epoch 12/50\n",
            "280/280 [==============================] - 0s 211us/sample - loss: 0.2123 - acc: 0.7607\n",
            "Epoch 13/50\n",
            "280/280 [==============================] - 0s 209us/sample - loss: 0.2099 - acc: 0.7643\n",
            "Epoch 14/50\n",
            "280/280 [==============================] - 0s 202us/sample - loss: 0.2076 - acc: 0.7607\n",
            "Epoch 15/50\n",
            "280/280 [==============================] - 0s 195us/sample - loss: 0.2053 - acc: 0.7679\n",
            "Epoch 16/50\n",
            "280/280 [==============================] - 0s 211us/sample - loss: 0.2031 - acc: 0.7714\n",
            "Epoch 17/50\n",
            "280/280 [==============================] - 0s 207us/sample - loss: 0.2008 - acc: 0.7750\n",
            "Epoch 18/50\n",
            "280/280 [==============================] - 0s 190us/sample - loss: 0.1983 - acc: 0.7750\n",
            "Epoch 19/50\n",
            "280/280 [==============================] - 0s 223us/sample - loss: 0.1957 - acc: 0.7821\n",
            "Epoch 20/50\n",
            "280/280 [==============================] - 0s 205us/sample - loss: 0.1930 - acc: 0.7857\n",
            "Epoch 21/50\n",
            "280/280 [==============================] - 0s 212us/sample - loss: 0.1905 - acc: 0.7893\n",
            "Epoch 22/50\n",
            "280/280 [==============================] - 0s 189us/sample - loss: 0.1879 - acc: 0.7929\n",
            "Epoch 23/50\n",
            "280/280 [==============================] - 0s 245us/sample - loss: 0.1854 - acc: 0.8000\n",
            "Epoch 24/50\n",
            "280/280 [==============================] - 0s 206us/sample - loss: 0.1831 - acc: 0.8071\n",
            "Epoch 25/50\n",
            "280/280 [==============================] - 0s 209us/sample - loss: 0.1809 - acc: 0.8143\n",
            "Epoch 26/50\n",
            "280/280 [==============================] - 0s 221us/sample - loss: 0.1789 - acc: 0.8143\n",
            "Epoch 27/50\n",
            "280/280 [==============================] - 0s 233us/sample - loss: 0.1770 - acc: 0.8107\n",
            "Epoch 28/50\n",
            "280/280 [==============================] - 0s 226us/sample - loss: 0.1751 - acc: 0.8107\n",
            "Epoch 29/50\n",
            "280/280 [==============================] - 0s 221us/sample - loss: 0.1731 - acc: 0.8107\n",
            "Epoch 30/50\n",
            "280/280 [==============================] - 0s 225us/sample - loss: 0.1713 - acc: 0.8143\n",
            "Epoch 31/50\n",
            "280/280 [==============================] - 0s 226us/sample - loss: 0.1695 - acc: 0.8143\n",
            "Epoch 32/50\n",
            "280/280 [==============================] - 0s 222us/sample - loss: 0.1678 - acc: 0.8179\n",
            "Epoch 33/50\n",
            "280/280 [==============================] - 0s 218us/sample - loss: 0.1661 - acc: 0.8179\n",
            "Epoch 34/50\n",
            "280/280 [==============================] - 0s 243us/sample - loss: 0.1645 - acc: 0.8179\n",
            "Epoch 35/50\n",
            "280/280 [==============================] - 0s 225us/sample - loss: 0.1629 - acc: 0.8214\n",
            "Epoch 36/50\n",
            "280/280 [==============================] - 0s 223us/sample - loss: 0.1613 - acc: 0.8321\n",
            "Epoch 37/50\n",
            "280/280 [==============================] - 0s 220us/sample - loss: 0.1598 - acc: 0.8357\n",
            "Epoch 38/50\n",
            "280/280 [==============================] - 0s 251us/sample - loss: 0.1583 - acc: 0.8357\n",
            "Epoch 39/50\n",
            "280/280 [==============================] - 0s 222us/sample - loss: 0.1568 - acc: 0.8357\n",
            "Epoch 40/50\n",
            "280/280 [==============================] - 0s 220us/sample - loss: 0.1553 - acc: 0.8393\n",
            "Epoch 41/50\n",
            "280/280 [==============================] - 0s 227us/sample - loss: 0.1539 - acc: 0.8393\n",
            "Epoch 42/50\n",
            "280/280 [==============================] - 0s 211us/sample - loss: 0.1524 - acc: 0.8393\n",
            "Epoch 43/50\n",
            "280/280 [==============================] - 0s 221us/sample - loss: 0.1510 - acc: 0.8429\n",
            "Epoch 44/50\n",
            "280/280 [==============================] - 0s 211us/sample - loss: 0.1496 - acc: 0.8429\n",
            "Epoch 45/50\n",
            "280/280 [==============================] - 0s 223us/sample - loss: 0.1482 - acc: 0.8464\n",
            "Epoch 46/50\n",
            "280/280 [==============================] - 0s 245us/sample - loss: 0.1469 - acc: 0.8500\n",
            "Epoch 47/50\n",
            "280/280 [==============================] - 0s 236us/sample - loss: 0.1456 - acc: 0.8500\n",
            "Epoch 48/50\n",
            "280/280 [==============================] - 0s 222us/sample - loss: 0.1443 - acc: 0.8500\n",
            "Epoch 49/50\n",
            "280/280 [==============================] - 0s 219us/sample - loss: 0.1431 - acc: 0.8536\n",
            "Epoch 50/50\n",
            "280/280 [==============================] - 0s 223us/sample - loss: 0.1419 - acc: 0.8536\n"
          ],
          "name": "stdout"
        },
        {
          "output_type": "execute_result",
          "data": {
            "text/plain": [
              "<tensorflow.python.keras.callbacks.History at 0x7f859ba989e8>"
            ]
          },
          "metadata": {
            "tags": []
          },
          "execution_count": 28
        }
      ]
    },
    {
      "metadata": {
        "id": "_ivM_IBqT30v",
        "colab_type": "code",
        "outputId": "b35a464e-fe85-4328-d23f-e5aad8d6677a",
        "colab": {
          "base_uri": "https://localhost:8080/",
          "height": 52
        }
      },
      "cell_type": "code",
      "source": [
        "test_loss, test_acc = model.evaluate(x_test, y_test)\n",
        "print('Test accuracy: %f' %test_acc)"
      ],
      "execution_count": 29,
      "outputs": [
        {
          "output_type": "stream",
          "text": [
            "71/71 [==============================] - 0s 618us/sample - loss: 0.0872 - acc: 0.9859\n",
            "Test accuracy: 0.985915\n"
          ],
          "name": "stdout"
        }
      ]
    },
    {
      "metadata": {
        "id": "lrzBzGeuUVZz",
        "colab_type": "code",
        "outputId": "dbfb4be1-7b34-4a22-8237-e64b00811215",
        "colab": {
          "base_uri": "https://localhost:8080/",
          "height": 301
        }
      },
      "cell_type": "code",
      "source": [
        "# history. all losses\n",
        "all_loss = model.history.history['loss'] \n",
        "print(len(all_loss))\n",
        "\n",
        "# show the training errors\n",
        "plt.plot(np.squeeze(all_loss))\n",
        "plt.xlabel('iterations');plt.ylabel('cost')\n",
        "#plt.title('Learning rate %f' %learning_rate)\n",
        "plt.show()"
      ],
      "execution_count": 11,
      "outputs": [
        {
          "output_type": "stream",
          "text": [
            "50\n"
          ],
          "name": "stdout"
        },
        {
          "output_type": "display_data",
          "data": {
            "image/png": "[encoded data removed]",
            "text/plain": [
              "<Figure size 432x288 with 1 Axes>"
            ]
          },
          "metadata": {
            "tags": []
          }
        }
      ]
    },
    {
      "metadata": {
        "id": "uiky5fuBZwOf",
        "colab_type": "text"
      },
      "cell_type": "markdown",
      "source": [
        "# PSO Algorithm"
      ]
    },
    {
      "metadata": {
        "id": "PBJU-POaaUOk",
        "colab_type": "code",
        "colab": {}
      },
      "cell_type": "code",
      "source": [
        "def fitness(str_costf,w):\n",
        "  model_nn.set_weights(w)\n",
        "  y_hat = model_nn.predict_on_batch(x_train)\n",
        "  if str_costf == 'MSE': # mean square error\n",
        "    cost = np.linalg.norm(y_hat-y_train)**2/(y_train.shape[1]*x_train.shape[0])\n",
        "  elif str_costf == 'MAE': # mean absolute error\n",
        "    cost = np.sum(np.abs(y_hat-y_train))/(y_train.shape[1]*x_train.shape[0])\n",
        "  return cost \n",
        "def gen_random_weights(NL):\n",
        "  w = list()\n",
        "  w_tmp = model_nn.get_weights()\n",
        "  for i in range(NL):\n",
        "    w.append(np.random.random_sample(w_tmp[i].shape)*0.8-0.4)\n",
        "  return w\n",
        "def list_subst(a,b):\n",
        "  # c=a-b\n",
        "  c=list()\n",
        "  for i in range(len(a)):\n",
        "    c.append(a[i]-b[i])\n",
        "  return c\n",
        "def list_mult(a,const):\n",
        "  # c=const*a\n",
        "  c=list()\n",
        "  for i in range(len(a)):\n",
        "    c.append(a[i]*const)\n",
        "  return c \n",
        "def list_mult_rand(a,const):\n",
        "  # c=const*a\n",
        "  c=list()\n",
        "  for i in range(len(a)):\n",
        "    prod = np.multiply(a[i],np.random.random_sample(a[i].shape))\n",
        "    c.append(prod*const)\n",
        "  return c\n",
        "def list_add(*arglist):\n",
        "  # d=a+b+c\n",
        "  d=list()\n",
        "  if len(arglist)==2:\n",
        "    for i in range(len(arglist[0])):\n",
        "      d.append(arglist[0][i]+arglist[1][i])\n",
        "    return d  \n",
        "  if len(arglist)==3:\n",
        "    for i in range(len(arglist[0])):\n",
        "      d.append(arglist[0][i]+arglist[1][i]+arglist[2][i])\n",
        "    return d \n",
        "def list_limit(a,amin,amax):\n",
        "  c=list()\n",
        "  for i in range(len(a)):\n",
        "    c.append(np.clip(a[i],amin,amax))\n",
        "  return c"
      ],
      "execution_count": 0,
      "outputs": []
    },
    {
      "metadata": {
        "id": "XgmeaF_gVEL5",
        "colab_type": "code",
        "colab": {}
      },
      "cell_type": "code",
      "source": [
        "#### PSO Algorithm\n",
        "NL=4\n",
        "model_nn = create_model(34,10,2)"
      ],
      "execution_count": 0,
      "outputs": []
    },
    {
      "metadata": {
        "id": "63gmyGmsb37V",
        "colab_type": "code",
        "colab": {}
      },
      "cell_type": "code",
      "source": [
        "Nparticles = 300\n",
        "Nepochs = 50\n",
        "# Create particles with random weigts matrix\n",
        "particles = list()\n",
        "vel_particles = list()\n",
        "for i in range(Nparticles):\n",
        "  particles.append(gen_random_weights(NL))\n",
        "  vel_particles.append(gen_random_weights(NL))"
      ],
      "execution_count": 0,
      "outputs": []
    },
    {
      "metadata": {
        "id": "7Blk0pIGt_j8",
        "colab_type": "code",
        "outputId": "a0d7caf5-cc78-437d-8b8a-5f4d63c8d0cc",
        "colab": {
          "base_uri": "https://localhost:8080/",
          "height": 897
        }
      },
      "cell_type": "code",
      "source": [
        "c1=2;c2=2;w=1\n",
        "p_bestid = particles.copy()\n",
        "p_best = np.ones(Nparticles)*10\n",
        "g_bestid = list()\n",
        "g_best = 10\n",
        "cost = np.zeros(Nepochs)\n",
        "#w=np.linspace(2.0, 1.0, num=Nepochs)\n",
        "lossf = 'MSE'\n",
        "#Start trining\n",
        "for k in range(Nepochs):\n",
        "  #print(\"Epoch %2d of %2d , best cost = %% 5.2f\" %(k,Nepochs,))\n",
        "  for i in range(Nparticles):\n",
        "    fit = fitness(lossf,particles[i])\n",
        "    #print(fit)\n",
        "    if fit < p_best[i]:\n",
        "      p_best[i] = fit\n",
        "      p_bestid[i] = particles[i].copy()\n",
        "  idx = np.argmin(p_best)\n",
        "  g_bestid = p_bestid[idx].copy()\n",
        "  #print(len(particles[0]))\n",
        "  for i in range(Nparticles):\n",
        "    #r1=np.random.rand()\n",
        "    #r2=np.random.rand()\n",
        "    p_delx = list_subst(p_bestid[i],particles[i])\n",
        "    g_delx = list_subst(g_bestid   ,particles[i])\n",
        "    inertia = list_mult(vel_particles[i],w)\n",
        "    cognitive = list_mult_rand(p_delx,c1)\n",
        "    social = list_mult_rand(g_delx,c2)\n",
        "    vid = list_add(inertia,cognitive,social)\n",
        "    xid = list_add(particles[i],vid)\n",
        "    vel_particles[i]=list_limit(vid,-1,1)\n",
        "    particles[i]=list_limit(xid,-1,1)\n",
        "  cost[k]=p_best[idx]\n",
        "  #if cost[k]==cost[k-1]):\n",
        "  #  w = w*0.9\n",
        "  #  print(w)\n",
        "  print(\"Epoch %2d of %2d , best cost = %8.6f\" %(k+1,Nepochs,cost[k]))\n",
        "model_nn.set_weights(g_bestid)"
      ],
      "execution_count": 15,
      "outputs": [
        {
          "output_type": "stream",
          "text": [
            "Epoch  1 of 50 , best cost = 0.230633\n",
            "Epoch  2 of 50 , best cost = 0.199241\n",
            "Epoch  3 of 50 , best cost = 0.189580\n",
            "Epoch  4 of 50 , best cost = 0.179259\n",
            "Epoch  5 of 50 , best cost = 0.176647\n",
            "Epoch  6 of 50 , best cost = 0.144589\n",
            "Epoch  7 of 50 , best cost = 0.144589\n",
            "Epoch  8 of 50 , best cost = 0.144589\n",
            "Epoch  9 of 50 , best cost = 0.142235\n",
            "Epoch 10 of 50 , best cost = 0.135210\n",
            "Epoch 11 of 50 , best cost = 0.097391\n",
            "Epoch 12 of 50 , best cost = 0.097391\n",
            "Epoch 13 of 50 , best cost = 0.081616\n",
            "Epoch 14 of 50 , best cost = 0.071184\n",
            "Epoch 15 of 50 , best cost = 0.071184\n",
            "Epoch 16 of 50 , best cost = 0.061763\n",
            "Epoch 17 of 50 , best cost = 0.059724\n",
            "Epoch 18 of 50 , best cost = 0.056600\n",
            "Epoch 19 of 50 , best cost = 0.048958\n",
            "Epoch 20 of 50 , best cost = 0.046738\n",
            "Epoch 21 of 50 , best cost = 0.044716\n",
            "Epoch 22 of 50 , best cost = 0.040241\n",
            "Epoch 23 of 50 , best cost = 0.038820\n",
            "Epoch 24 of 50 , best cost = 0.036106\n",
            "Epoch 25 of 50 , best cost = 0.035041\n",
            "Epoch 26 of 50 , best cost = 0.034242\n",
            "Epoch 27 of 50 , best cost = 0.033964\n",
            "Epoch 28 of 50 , best cost = 0.033376\n",
            "Epoch 29 of 50 , best cost = 0.032635\n",
            "Epoch 30 of 50 , best cost = 0.032390\n",
            "Epoch 31 of 50 , best cost = 0.032090\n",
            "Epoch 32 of 50 , best cost = 0.031972\n",
            "Epoch 33 of 50 , best cost = 0.031549\n",
            "Epoch 34 of 50 , best cost = 0.031549\n",
            "Epoch 35 of 50 , best cost = 0.031518\n",
            "Epoch 36 of 50 , best cost = 0.031518\n",
            "Epoch 37 of 50 , best cost = 0.031452\n",
            "Epoch 38 of 50 , best cost = 0.031452\n",
            "Epoch 39 of 50 , best cost = 0.031452\n",
            "Epoch 40 of 50 , best cost = 0.031229\n",
            "Epoch 41 of 50 , best cost = 0.031229\n",
            "Epoch 42 of 50 , best cost = 0.031196\n",
            "Epoch 43 of 50 , best cost = 0.031196\n",
            "Epoch 44 of 50 , best cost = 0.031191\n",
            "Epoch 45 of 50 , best cost = 0.031191\n",
            "Epoch 46 of 50 , best cost = 0.031191\n",
            "Epoch 47 of 50 , best cost = 0.031128\n",
            "Epoch 48 of 50 , best cost = 0.031089\n",
            "Epoch 49 of 50 , best cost = 0.029549\n",
            "Epoch 50 of 50 , best cost = 0.029307\n"
          ],
          "name": "stdout"
        }
      ]
    },
    {
      "metadata": {
        "id": "4yqRITJ4eZdW",
        "colab_type": "code",
        "outputId": "befc4946-a77b-46c8-d094-d0cb24c65854",
        "colab": {
          "base_uri": "https://localhost:8080/",
          "height": 52
        }
      },
      "cell_type": "code",
      "source": [
        "model_nn.set_weights(g_bestid)\n",
        "test_loss, test_acc = model_nn.evaluate(x_test, y_test)\n",
        "print('Test accuracy: %f' %test_acc)"
      ],
      "execution_count": 16,
      "outputs": [
        {
          "output_type": "stream",
          "text": [
            "71/71 [==============================] - 0s 564us/sample - loss: 0.0152 - acc: 0.9859\n",
            "Test accuracy: 0.985915\n"
          ],
          "name": "stdout"
        }
      ]
    },
    {
      "metadata": {
        "id": "dDXXkuRBrn5w",
        "colab_type": "code",
        "outputId": "69d3eaf3-e0eb-4fd9-b298-c2c8435eadea",
        "colab": {
          "base_uri": "https://localhost:8080/",
          "height": 295
        }
      },
      "cell_type": "code",
      "source": [
        "# history. all losses\n",
        "all_loss_mse = model.history.history['loss'] \n",
        "# show the training errors backpropagation\n",
        "plt.plot(np.squeeze(all_loss_mse), label='Backpropagation')\n",
        "plt.plot(range(k+1),cost, label='PSO')\n",
        "plt.xlabel('iterations');plt.ylabel('cost')\n",
        "plt.legend()\n",
        "plt.title('Fitness function: MSE')\n",
        "#plt.show()\n",
        "fig = plt.gcf()\n",
        "fig.savefig('back_prog_vs_pso_%s' %(lossf), format='png')"
      ],
      "execution_count": 30,
      "outputs": [
        {
          "output_type": "display_data",
          "data": {
            "image/png": "[encoded data removed]",
            "text/plain": [
              "<Figure size 432x288 with 1 Axes>"
            ]
          },
          "metadata": {
            "tags": []
          }
        }
      ]
    },
    {
      "metadata": {
        "id": "EQk4lgK6BcL3",
        "colab_type": "text"
      },
      "cell_type": "markdown",
      "source": [
        "##################################\n"
      ]
    }
  ]
}